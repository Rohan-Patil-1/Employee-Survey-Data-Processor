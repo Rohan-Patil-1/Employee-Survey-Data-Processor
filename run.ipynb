{
 "cells": [
  {
   "cell_type": "code",
   "execution_count": 1,
   "metadata": {},
   "outputs": [
    {
     "name": "stdout",
     "output_type": "stream",
     "text": [
      "Defaulting to user installation because normal site-packages is not writeable\n",
      "Collecting mysql-connector-python\n",
      "  Downloading mysql_connector_python-9.2.0-py2.py3-none-any.whl.metadata (6.0 kB)\n",
      "Downloading mysql_connector_python-9.2.0-py2.py3-none-any.whl (398 kB)\n",
      "Installing collected packages: mysql-connector-python\n",
      "Successfully installed mysql-connector-python-9.2.0\n",
      "Note: you may need to restart the kernel to use updated packages.\n"
     ]
    }
   ],
   "source": [
    "pip install mysql-connector-python"
   ]
  },
  {
   "cell_type": "code",
   "execution_count": 59,
   "metadata": {},
   "outputs": [],
   "source": [
    "import mysql.connector"
   ]
  },
  {
   "cell_type": "code",
   "execution_count": null,
   "metadata": {},
   "outputs": [],
   "source": [
    "conn = mysql.connector.connect(\n",
    "    host=\" \",       # Change if MySQL is hosted remotely\n",
    "    user=\" \",            # Your MySQL username\n",
    "    password=\" \",  # Your MySQL password\n",
    "    database=\" \"        # Your database name\n",
    ")\n",
    "\n",
    "cursor = conn.cursor()\n",
    "print(\"Connected to MySQL successfully!\")\n"
   ]
  },
  {
   "cell_type": "code",
   "execution_count": 64,
   "metadata": {},
   "outputs": [
    {
     "name": "stdout",
     "output_type": "stream",
     "text": [
      "('employee_name',)\n",
      "('survey_attribute',)\n",
      "('survey_report',)\n",
      "('survey_result',)\n",
      "('value_set',)\n"
     ]
    }
   ],
   "source": [
    "cursor.execute(\"SHOW TABLES;\")\n",
    "for table in cursor:\n",
    "    print(table)\n"
   ]
  },
  {
   "cell_type": "markdown",
   "metadata": {},
   "source": [
    "Understanding Data"
   ]
  },
  {
   "cell_type": "code",
   "execution_count": 67,
   "metadata": {},
   "outputs": [
    {
     "name": "stdout",
     "output_type": "stream",
     "text": [
      "Total records in table: employee_name\n",
      "Total records: 53248\n",
      "\n",
      "Total records in table: survey_attribute\n",
      "Total records: 19\n",
      "\n",
      "Total records in table: survey_report\n",
      "Total records: 30825\n",
      "\n",
      "Total records in table: survey_result\n",
      "Total records: 48213\n",
      "\n",
      "Total records in table: value_set\n",
      "Total records: 251\n",
      "\n"
     ]
    }
   ],
   "source": [
    "cursor = conn.cursor()\n",
    "\n",
    "# Fetch all table names from the database\n",
    "cursor.execute(\"SHOW TABLES;\")\n",
    "tables = cursor.fetchall()\n",
    "\n",
    "# Iterate through each table and fetch the total number of records\n",
    "for table in tables:\n",
    "    table_name = table[0]\n",
    "    print(f\"Total records in table: {table_name}\")\n",
    "    \n",
    "    query = f\"SELECT COUNT(*) FROM {table_name};\"\n",
    "    cursor.execute(query)\n",
    "    \n",
    "    # Fetch result (the count of rows)\n",
    "    result = cursor.fetchone()\n",
    "    total_records = result[0]\n",
    "    \n",
    "    # Print total records in the table\n",
    "    print(f\"Total records: {total_records}\\n\")"
   ]
  },
  {
   "cell_type": "code",
   "execution_count": null,
   "metadata": {},
   "outputs": [],
   "source": [
    "# Iterate through each table and fetch the top 10 rows\n",
    "\n",
    "cursor.execute(\"SHOW TABLES;\")\n",
    "tables = cursor.fetchall()\n",
    "\n",
    "for table in tables:\n",
    "    table_name = table[0]\n",
    "    print(f\"\\n Top 10 results from table: {table_name}\")\n",
    "    \n",
    "    query = f\"SELECT * FROM {table_name} LIMIT 10;\"\n",
    "    cursor.execute(query)\n",
    "    rows = cursor.fetchall()\n",
    "    \n",
    "    # Fetch column names\n",
    "    column_names = [i[0] for i in cursor.description]\n",
    "    print(\" | \".join(column_names))  # Print column headers\n",
    "    \n",
    "    # Print each row\n",
    "    for row in rows:\n",
    "        print(\" | \".join(str(col) for col in row))  # Convert all values to string for printing\n"
   ]
  },
  {
   "cell_type": "code",
   "execution_count": null,
   "metadata": {},
   "outputs": [],
   "source": [
    "query = \"SELECT DISTINCT EmployeeId FROM survey_result;\"\n",
    "cursor.execute(query)\n",
    "distinctEmployees = cursor.fetchall()"
   ]
  },
  {
   "cell_type": "code",
   "execution_count": null,
   "metadata": {},
   "outputs": [],
   "source": [
    "for employee in distinctEmployees:\n",
    "    employee_id = employee[0]\n",
    "    print(f\"EmployeeId: {employee_id}\")"
   ]
  },
  {
   "cell_type": "code",
   "execution_count": null,
   "metadata": {},
   "outputs": [],
   "source": [
    "absent_employee_reason_attr_id = '10888805135056'\n",
    "\n",
    "for employee in distinctEmployees:\n",
    "    employee_id = employee[0]\n",
    "    # TO-DO implement query to fetch absent reason for each employee\n",
    "    cursor.execute(query_absent_reason)\n",
    "    absent_reason_result = cursor.fetchone()\n",
    "    print(f\"EmployeeId: {employee_id}, AbsentEmployeeReason: {absent_reason_result}\")"
   ]
  },
  {
   "cell_type": "code",
   "execution_count": null,
   "metadata": {},
   "outputs": [],
   "source": [
    "certifications_attr_id = '10888805157268'\n",
    "\n",
    "for employee in distinctEmployees:\n",
    "    employee_id = employee[0]\n",
    "    # TO-DO implement query to fetch certifications for each employee\n",
    "    cursor.execute(query_certifications)\n",
    "    certifications_result = cursor.fetchone()\n",
    "    print(f\"EmployeeId: {employee_id}, Certifications: {certifications_result}\")"
   ]
  },
  {
   "cell_type": "code",
   "execution_count": null,
   "metadata": {},
   "outputs": [],
   "source": [
    "for employee in distinctEmployees:\n",
    "    employee_id = employee[0]\n",
    "    # TO-DO implement query to fetch employee details\n",
    "    cursor.execute(query_employee_details)\n",
    "    emp_details = cursor.fetchone()\n",
    "    print(f\"EmployeeId: {emp_details[0]}, FirstName: {emp_details[1]}, LastName: {emp_details[2]}\")"
   ]
  },
  {
   "cell_type": "code",
   "execution_count": 54,
   "metadata": {},
   "outputs": [],
   "source": [
    "insertData = []\n",
    "\n",
    "for employee in distinctEmployees:\n",
    "    employee_id = employee[0]\n",
    "    \n",
    "    # Fetch employee details\n",
    "    # TO-DO implement query to fetch employee details\n",
    "    cursor.execute(query_employee_details)\n",
    "    emp_details = cursor.fetchone()\n",
    "    \n",
    "    if emp_details:\n",
    "        # Fetch absent employee reason\n",
    "        # TO-DO implement query to fetch absent reason for each employee\n",
    "        cursor.execute(query_absent_reason)\n",
    "        absent_reason_result = cursor.fetchone()\n",
    "        absent_reason = absent_reason_result[0] if absent_reason_result else None\n",
    "        \n",
    "        # Fetch certifications\n",
    "        # TO-DO implement query to fetch certifications for each employee\n",
    "        cursor.execute(query_certifications)\n",
    "        certifications_result = cursor.fetchone()\n",
    "        certifications = certifications_result[0] if certifications_result else None\n",
    "        \n",
    "        # Combine details into a single record\n",
    "        record = (emp_details[0], emp_details[1], emp_details[2], absent_reason, certifications)\n",
    "        insertData.append(record)"
   ]
  },
  {
   "cell_type": "code",
   "execution_count": 55,
   "metadata": {},
   "outputs": [
    {
     "name": "stdout",
     "output_type": "stream",
     "text": [
      "The 'survey_report' table has been emptied.\n"
     ]
    }
   ],
   "source": [
    "truncate_query = \"TRUNCATE TABLE survey_report;\"\n",
    "cursor.execute(truncate_query)\n",
    "print(\"The 'survey_report' table has been emptied.\")"
   ]
  },
  {
   "cell_type": "code",
   "execution_count": 56,
   "metadata": {},
   "outputs": [],
   "source": [
    "insert_query = \"\"\"\n",
    "INSERT INTO survey_report (EmployeeId, FirstName, LastName, AbsentEmployeeReason, Certifications)\n",
    "VALUES (%s, %s, %s, %s, %s);\n",
    "\"\"\""
   ]
  },
  {
   "cell_type": "code",
   "execution_count": 57,
   "metadata": {},
   "outputs": [
    {
     "name": "stdout",
     "output_type": "stream",
     "text": [
      "Data inserted successfully into 'survey_report' table.\n"
     ]
    }
   ],
   "source": [
    "for record in insertData:\n",
    "    cursor.execute(insert_query, record)\n",
    "    conn.commit()\n",
    "print(\"Data inserted successfully into 'survey_report' table.\")"
   ]
  },
  {
   "cell_type": "code",
   "execution_count": 61,
   "metadata": {},
   "outputs": [
    {
     "name": "stdout",
     "output_type": "stream",
     "text": [
      "Time taken for different sample sizes:\n",
      "Sample size 100: 0.15 seconds\n",
      "Sample size 500: 0.48 seconds\n",
      "Sample size 1000: 0.98 seconds\n",
      "Sample size 5000: 4.74 seconds\n",
      "Sample size 10000: 9.39 seconds\n",
      "Sample size 20000: 19.13 seconds\n",
      "Sample size 30825: 34.70 seconds\n"
     ]
    }
   ],
   "source": [
    "import time\n",
    "\n",
    "sample_sizes = [100, 500, 1000, 5000, 10000, 20000, 30825]\n",
    "time_taken = {}\n",
    "\n",
    "for sample_size in sample_sizes:\n",
    "    start_time = time.time()\n",
    "    \n",
    "    sample_employees = distinctEmployees[:sample_size]\n",
    "    sample_insert_data = []\n",
    "\n",
    "    for employee in sample_employees:\n",
    "        employee_id = employee[0]\n",
    "        \n",
    "        # Fetch employee details\n",
    "        # TO-DO implement query to fetch employee details\n",
    "        cursor.execute(query_employee_details)\n",
    "        emp_details = cursor.fetchone()\n",
    "        \n",
    "        if emp_details:\n",
    "            # Fetch absent employee reason\n",
    "            # TO-DO implement query to fetch absent reason for each employee\n",
    "            cursor.execute(query_absent_reason)\n",
    "            absent_reason_result = cursor.fetchone()\n",
    "            absent_reason = absent_reason_result[0] if absent_reason_result else None\n",
    "            \n",
    "            # Fetch certifications\n",
    "            # TO-DO implement query to fetch certifications for each employee\n",
    "            cursor.execute(query_certifications)\n",
    "            certifications_result = cursor.fetchone()\n",
    "            certifications = certifications_result[0] if certifications_result else None\n",
    "            \n",
    "            # Combine details into a single record\n",
    "            record = (emp_details[0], emp_details[1], emp_details[2], absent_reason, certifications)\n",
    "            sample_insert_data.append(record)\n",
    "    \n",
    "    end_time = time.time()\n",
    "    time_taken[sample_size] = end_time - start_time\n",
    "\n",
    "print(\"Time taken for different sample sizes:\")\n",
    "for size, duration in time_taken.items():\n",
    "    print(f\"Sample size {size}: {duration:.2f} seconds\")"
   ]
  },
  {
   "cell_type": "markdown",
   "metadata": {},
   "source": [
    "**Closing the connection**\n"
   ]
  },
  {
   "cell_type": "code",
   "execution_count": 68,
   "metadata": {},
   "outputs": [
    {
     "name": "stdout",
     "output_type": "stream",
     "text": [
      "Connection closed.\n"
     ]
    }
   ],
   "source": [
    "cursor.close()\n",
    "conn.close()\n",
    "print(\"Connection closed.\")\n"
   ]
  }
 ],
 "metadata": {
  "kernelspec": {
   "display_name": "Python 3",
   "language": "python",
   "name": "python3"
  },
  "language_info": {
   "codemirror_mode": {
    "name": "ipython",
    "version": 3
   },
   "file_extension": ".py",
   "mimetype": "text/x-python",
   "name": "python",
   "nbconvert_exporter": "python",
   "pygments_lexer": "ipython3",
   "version": "3.9.6"
  }
 },
 "nbformat": 4,
 "nbformat_minor": 2
}
